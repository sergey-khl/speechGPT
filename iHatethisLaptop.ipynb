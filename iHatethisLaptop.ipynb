{
 "cells": [
  {
   "cell_type": "code",
   "execution_count": 1,
   "metadata": {},
   "outputs": [
    {
     "name": "stdout",
     "output_type": "stream",
     "text": [
      "Requirement already satisfied: huggingsound in c:\\users\\wxat3\\appdata\\local\\programs\\python\\python310\\lib\\site-packages (0.1.6)\n",
      "Requirement already satisfied: SpeechRecognition in c:\\users\\wxat3\\appdata\\local\\programs\\python\\python310\\lib\\site-packages (3.10.0)\n",
      "Requirement already satisfied: PyAudio in c:\\users\\wxat3\\appdata\\local\\programs\\python\\python310\\lib\\site-packages (0.2.13)\n",
      "Requirement already satisfied: transformers<5.0.0,>=4.23.1 in c:\\users\\wxat3\\appdata\\local\\programs\\python\\python310\\lib\\site-packages (from huggingsound) (4.25.1)\n",
      "Requirement already satisfied: datasets<3.0.0,>=2.6.1 in c:\\users\\wxat3\\appdata\\local\\programs\\python\\python310\\lib\\site-packages (from huggingsound) (2.11.0)\n",
      "Requirement already satisfied: jiwer<3.0.0,>=2.5.1 in c:\\users\\wxat3\\appdata\\local\\programs\\python\\python310\\lib\\site-packages (from huggingsound) (2.6.0)\n",
      "Requirement already satisfied: torch!=1.12.0,<1.13.0,>=1.7 in c:\\users\\wxat3\\appdata\\local\\programs\\python\\python310\\lib\\site-packages (from huggingsound) (1.12.1)\n",
      "Requirement already satisfied: librosa<0.10.0,>=0.9.2 in c:\\users\\wxat3\\appdata\\local\\programs\\python\\python310\\lib\\site-packages (from huggingsound) (0.9.2)\n",
      "Requirement already satisfied: requests>=2.26.0 in c:\\users\\wxat3\\appdata\\local\\programs\\python\\python310\\lib\\site-packages (from SpeechRecognition) (2.28.1)\n",
      "Requirement already satisfied: multiprocess in c:\\users\\wxat3\\appdata\\local\\programs\\python\\python310\\lib\\site-packages (from datasets<3.0.0,>=2.6.1->huggingsound) (0.70.14)\n",
      "Requirement already satisfied: aiohttp in c:\\users\\wxat3\\appdata\\local\\programs\\python\\python310\\lib\\site-packages (from datasets<3.0.0,>=2.6.1->huggingsound) (3.8.4)\n",
      "Requirement already satisfied: fsspec[http]>=2021.11.1 in c:\\users\\wxat3\\appdata\\local\\programs\\python\\python310\\lib\\site-packages (from datasets<3.0.0,>=2.6.1->huggingsound) (2023.3.0)\n",
      "Requirement already satisfied: pyyaml>=5.1 in c:\\users\\wxat3\\appdata\\local\\programs\\python\\python310\\lib\\site-packages (from datasets<3.0.0,>=2.6.1->huggingsound) (6.0)\n",
      "Requirement already satisfied: xxhash in c:\\users\\wxat3\\appdata\\local\\programs\\python\\python310\\lib\\site-packages (from datasets<3.0.0,>=2.6.1->huggingsound) (3.2.0)\n",
      "Requirement already satisfied: numpy>=1.17 in c:\\users\\wxat3\\appdata\\local\\programs\\python\\python310\\lib\\site-packages (from datasets<3.0.0,>=2.6.1->huggingsound) (1.24.1)\n",
      "Requirement already satisfied: packaging in c:\\users\\wxat3\\appdata\\local\\programs\\python\\python310\\lib\\site-packages (from datasets<3.0.0,>=2.6.1->huggingsound) (21.3)\n",
      "Requirement already satisfied: responses<0.19 in c:\\users\\wxat3\\appdata\\local\\programs\\python\\python310\\lib\\site-packages (from datasets<3.0.0,>=2.6.1->huggingsound) (0.18.0)\n",
      "Requirement already satisfied: pyarrow>=8.0.0 in c:\\users\\wxat3\\appdata\\local\\programs\\python\\python310\\lib\\site-packages (from datasets<3.0.0,>=2.6.1->huggingsound) (11.0.0)\n",
      "Requirement already satisfied: huggingface-hub<1.0.0,>=0.11.0 in c:\\users\\wxat3\\appdata\\local\\programs\\python\\python310\\lib\\site-packages (from datasets<3.0.0,>=2.6.1->huggingsound) (0.11.1)\n",
      "Requirement already satisfied: tqdm>=4.62.1 in c:\\users\\wxat3\\appdata\\local\\programs\\python\\python310\\lib\\site-packages (from datasets<3.0.0,>=2.6.1->huggingsound) (4.64.1)\n",
      "Requirement already satisfied: dill<0.3.7,>=0.3.0 in c:\\users\\wxat3\\appdata\\local\\programs\\python\\python310\\lib\\site-packages (from datasets<3.0.0,>=2.6.1->huggingsound) (0.3.6)\n",
      "Requirement already satisfied: pandas in c:\\users\\wxat3\\appdata\\local\\programs\\python\\python310\\lib\\site-packages (from datasets<3.0.0,>=2.6.1->huggingsound) (1.4.0)\n",
      "Requirement already satisfied: click<9.0.0,>=8.1.3 in c:\\users\\wxat3\\appdata\\local\\programs\\python\\python310\\lib\\site-packages (from jiwer<3.0.0,>=2.5.1->huggingsound) (8.1.3)\n",
      "Requirement already satisfied: rapidfuzz==2.13.7 in c:\\users\\wxat3\\appdata\\local\\programs\\python\\python310\\lib\\site-packages (from jiwer<3.0.0,>=2.5.1->huggingsound) (2.13.7)\n",
      "Requirement already satisfied: scipy>=1.2.0 in c:\\users\\wxat3\\appdata\\roaming\\python\\python310\\site-packages (from librosa<0.10.0,>=0.9.2->huggingsound) (1.9.0)\n",
      "Requirement already satisfied: numba>=0.45.1 in c:\\users\\wxat3\\appdata\\local\\programs\\python\\python310\\lib\\site-packages (from librosa<0.10.0,>=0.9.2->huggingsound) (0.56.4)\n",
      "Requirement already satisfied: joblib>=0.14 in c:\\users\\wxat3\\appdata\\local\\programs\\python\\python310\\lib\\site-packages (from librosa<0.10.0,>=0.9.2->huggingsound) (1.1.0)\n",
      "Requirement already satisfied: resampy>=0.2.2 in c:\\users\\wxat3\\appdata\\local\\programs\\python\\python310\\lib\\site-packages (from librosa<0.10.0,>=0.9.2->huggingsound) (0.4.2)\n",
      "Requirement already satisfied: audioread>=2.1.9 in c:\\users\\wxat3\\appdata\\local\\programs\\python\\python310\\lib\\site-packages (from librosa<0.10.0,>=0.9.2->huggingsound) (3.0.0)\n",
      "Requirement already satisfied: scikit-learn>=0.19.1 in c:\\users\\wxat3\\appdata\\local\\programs\\python\\python310\\lib\\site-packages (from librosa<0.10.0,>=0.9.2->huggingsound) (1.1.2)\n",
      "Requirement already satisfied: decorator>=4.0.10 in c:\\users\\wxat3\\appdata\\roaming\\python\\python310\\site-packages (from librosa<0.10.0,>=0.9.2->huggingsound) (5.1.1)\n",
      "Requirement already satisfied: pooch>=1.0 in c:\\users\\wxat3\\appdata\\local\\programs\\python\\python310\\lib\\site-packages (from librosa<0.10.0,>=0.9.2->huggingsound) (1.6.0)\n",
      "Requirement already satisfied: soundfile>=0.10.2 in c:\\users\\wxat3\\appdata\\local\\programs\\python\\python310\\lib\\site-packages (from librosa<0.10.0,>=0.9.2->huggingsound) (0.11.0)\n",
      "Requirement already satisfied: certifi>=2017.4.17 in c:\\users\\wxat3\\appdata\\local\\programs\\python\\python310\\lib\\site-packages (from requests>=2.26.0->SpeechRecognition) (2022.6.15)\n",
      "Requirement already satisfied: urllib3<1.27,>=1.21.1 in c:\\users\\wxat3\\appdata\\local\\programs\\python\\python310\\lib\\site-packages (from requests>=2.26.0->SpeechRecognition) (1.26.11)\n",
      "Requirement already satisfied: idna<4,>=2.5 in c:\\users\\wxat3\\appdata\\local\\programs\\python\\python310\\lib\\site-packages (from requests>=2.26.0->SpeechRecognition) (3.3)\n",
      "Requirement already satisfied: charset-normalizer<3,>=2 in c:\\users\\wxat3\\appdata\\local\\programs\\python\\python310\\lib\\site-packages (from requests>=2.26.0->SpeechRecognition) (2.1.0)\n",
      "Requirement already satisfied: typing-extensions in c:\\users\\wxat3\\appdata\\local\\programs\\python\\python310\\lib\\site-packages (from torch!=1.12.0,<1.13.0,>=1.7->huggingsound) (4.3.0)\n",
      "Requirement already satisfied: filelock in c:\\users\\wxat3\\appdata\\local\\programs\\python\\python310\\lib\\site-packages (from transformers<5.0.0,>=4.23.1->huggingsound) (3.9.0)\n",
      "Requirement already satisfied: tokenizers!=0.11.3,<0.14,>=0.11.1 in c:\\users\\wxat3\\appdata\\local\\programs\\python\\python310\\lib\\site-packages (from transformers<5.0.0,>=4.23.1->huggingsound) (0.13.2)\n",
      "Requirement already satisfied: regex!=2019.12.17 in c:\\users\\wxat3\\appdata\\local\\programs\\python\\python310\\lib\\site-packages (from transformers<5.0.0,>=4.23.1->huggingsound) (2022.10.31)\n",
      "Requirement already satisfied: colorama in c:\\users\\wxat3\\appdata\\roaming\\python\\python310\\site-packages (from click<9.0.0,>=8.1.3->jiwer<3.0.0,>=2.5.1->huggingsound) (0.4.5)\n",
      "Requirement already satisfied: yarl<2.0,>=1.0 in c:\\users\\wxat3\\appdata\\local\\programs\\python\\python310\\lib\\site-packages (from aiohttp->datasets<3.0.0,>=2.6.1->huggingsound) (1.8.2)\n",
      "Requirement already satisfied: attrs>=17.3.0 in c:\\users\\wxat3\\appdata\\roaming\\python\\python310\\site-packages (from aiohttp->datasets<3.0.0,>=2.6.1->huggingsound) (22.1.0)\n",
      "Requirement already satisfied: multidict<7.0,>=4.5 in c:\\users\\wxat3\\appdata\\local\\programs\\python\\python310\\lib\\site-packages (from aiohttp->datasets<3.0.0,>=2.6.1->huggingsound) (6.0.4)\n",
      "Requirement already satisfied: frozenlist>=1.1.1 in c:\\users\\wxat3\\appdata\\local\\programs\\python\\python310\\lib\\site-packages (from aiohttp->datasets<3.0.0,>=2.6.1->huggingsound) (1.3.3)\n",
      "Requirement already satisfied: async-timeout<5.0,>=4.0.0a3 in c:\\users\\wxat3\\appdata\\local\\programs\\python\\python310\\lib\\site-packages (from aiohttp->datasets<3.0.0,>=2.6.1->huggingsound) (4.0.2)\n",
      "Requirement already satisfied: aiosignal>=1.1.2 in c:\\users\\wxat3\\appdata\\local\\programs\\python\\python310\\lib\\site-packages (from aiohttp->datasets<3.0.0,>=2.6.1->huggingsound) (1.3.1)\n",
      "Collecting numpy>=1.17\n",
      "  Downloading numpy-1.23.5-cp310-cp310-win_amd64.whl (14.6 MB)\n",
      "     ---------------------------------------- 0.0/14.6 MB ? eta -:--:--\n",
      "     ---------------------------------------- 0.1/14.6 MB 3.2 MB/s eta 0:00:05\n",
      "     - -------------------------------------- 0.5/14.6 MB 5.6 MB/s eta 0:00:03\n",
      "     ---- ----------------------------------- 1.5/14.6 MB 12.1 MB/s eta 0:00:02\n",
      "     ---------- ----------------------------- 3.7/14.6 MB 21.7 MB/s eta 0:00:01\n",
      "     ----------------- ---------------------- 6.6/14.6 MB 30.0 MB/s eta 0:00:01\n",
      "     ----------------------- ---------------- 8.5/14.6 MB 32.0 MB/s eta 0:00:01\n",
      "     ------------------------------- ------- 11.7/14.6 MB 54.4 MB/s eta 0:00:01\n",
      "     --------------------------------------  14.6/14.6 MB 59.5 MB/s eta 0:00:01\n",
      "     --------------------------------------- 14.6/14.6 MB 46.7 MB/s eta 0:00:00\n",
      "Requirement already satisfied: setuptools in c:\\users\\wxat3\\appdata\\local\\programs\\python\\python310\\lib\\site-packages (from numba>=0.45.1->librosa<0.10.0,>=0.9.2->huggingsound) (59.5.0)\n",
      "Requirement already satisfied: llvmlite<0.40,>=0.39.0dev0 in c:\\users\\wxat3\\appdata\\local\\programs\\python\\python310\\lib\\site-packages (from numba>=0.45.1->librosa<0.10.0,>=0.9.2->huggingsound) (0.39.1)\n",
      "Requirement already satisfied: pyparsing!=3.0.5,>=2.0.2 in c:\\users\\wxat3\\appdata\\local\\programs\\python\\python310\\lib\\site-packages (from packaging->datasets<3.0.0,>=2.6.1->huggingsound) (3.0.7)\n",
      "Requirement already satisfied: appdirs>=1.3.0 in c:\\users\\wxat3\\appdata\\local\\programs\\python\\python310\\lib\\site-packages (from pooch>=1.0->librosa<0.10.0,>=0.9.2->huggingsound) (1.4.4)\n",
      "Requirement already satisfied: threadpoolctl>=2.0.0 in c:\\users\\wxat3\\appdata\\local\\programs\\python\\python310\\lib\\site-packages (from scikit-learn>=0.19.1->librosa<0.10.0,>=0.9.2->huggingsound) (3.1.0)\n",
      "Requirement already satisfied: cffi>=1.0 in c:\\users\\wxat3\\appdata\\roaming\\python\\python310\\site-packages (from soundfile>=0.10.2->librosa<0.10.0,>=0.9.2->huggingsound) (1.15.1)\n",
      "Requirement already satisfied: pytz>=2020.1 in c:\\users\\wxat3\\appdata\\local\\programs\\python\\python310\\lib\\site-packages (from pandas->datasets<3.0.0,>=2.6.1->huggingsound) (2022.1)\n",
      "Requirement already satisfied: python-dateutil>=2.8.1 in c:\\users\\wxat3\\appdata\\local\\programs\\python\\python310\\lib\\site-packages (from pandas->datasets<3.0.0,>=2.6.1->huggingsound) (2.8.2)\n",
      "Requirement already satisfied: pycparser in c:\\users\\wxat3\\appdata\\roaming\\python\\python310\\site-packages (from cffi>=1.0->soundfile>=0.10.2->librosa<0.10.0,>=0.9.2->huggingsound) (2.21)\n",
      "Requirement already satisfied: six>=1.5 in c:\\users\\wxat3\\appdata\\local\\programs\\python\\python310\\lib\\site-packages (from python-dateutil>=2.8.1->pandas->datasets<3.0.0,>=2.6.1->huggingsound) (1.16.0)\n",
      "Installing collected packages: numpy\n",
      "  Attempting uninstall: numpy\n",
      "    Found existing installation: numpy 1.24.1\n",
      "    Uninstalling numpy-1.24.1:\n",
      "      Successfully uninstalled numpy-1.24.1\n",
      "Successfully installed numpy-1.23.5\n",
      "Note: you may need to restart the kernel to use updated packages.\n"
     ]
    },
    {
     "name": "stderr",
     "output_type": "stream",
     "text": [
      "ERROR: pip's dependency resolver does not currently take into account all the packages that are installed. This behaviour is the source of the following dependency conflicts.\n",
      "torchvision 0.12.0 requires torch==1.11.0, but you have torch 1.12.1 which is incompatible.\n"
     ]
    }
   ],
   "source": [
    "%pip install huggingsound SpeechRecognition PyAudio"
   ]
  },
  {
   "cell_type": "code",
   "execution_count": 12,
   "metadata": {},
   "outputs": [],
   "source": [
    "#S2T\n",
    "import torch\n",
    "from transformers import pipeline, Wav2Vec2ForCTC, Wav2Vec2Processor\n",
    "from huggingsound import SpeechRecognitionModel\n",
    "import speech_recognition as sr\n",
    "import io\n",
    "import soundfile as sf\n",
    "#T2S\n",
    "import torchaudio\n",
    "from speechbrain.pretrained import Tacotron2\n",
    "from speechbrain.pretrained import HIFIGAN"
   ]
  },
  {
   "cell_type": "code",
   "execution_count": 17,
   "metadata": {},
   "outputs": [],
   "source": [
    "tacotron2 = Tacotron2.from_hparams(source=\"speechbrain/tts-tacotron2-ljspeech\", savedir=\"tmpdir_tts\")\n",
    "hifi_gan = HIFIGAN.from_hparams(source=\"speechbrain/tts-hifigan-ljspeech\", savedir=\"tmpdir_vocoder\")"
   ]
  },
  {
   "cell_type": "code",
   "execution_count": 3,
   "metadata": {},
   "outputs": [],
   "source": [
    "mel_output, mel_length, alignment = tacotron2.encode_text(\"Mary had a little lamb\")"
   ]
  },
  {
   "cell_type": "code",
   "execution_count": 4,
   "metadata": {},
   "outputs": [],
   "source": [
    "waveforms = hifi_gan.decode_batch(mel_output)"
   ]
  },
  {
   "cell_type": "code",
   "execution_count": null,
   "metadata": {},
   "outputs": [],
   "source": [
    "torchaudio.save('example_TTS.wav',waveforms.squeeze(1), 22050)"
   ]
  },
  {
   "cell_type": "code",
   "execution_count": 3,
   "metadata": {},
   "outputs": [],
   "source": [
    "LANG_ID = \"en\"\n",
    "MODEL_ID = \"jonatasgrosman/wav2vec2-large-xlsr-53-english\"\n",
    "SAMPLES = 10"
   ]
  },
  {
   "cell_type": "code",
   "execution_count": 6,
   "metadata": {},
   "outputs": [],
   "source": [
    "processor = Wav2Vec2Processor.from_pretrained(MODEL_ID)\n",
    "model = Wav2Vec2ForCTC.from_pretrained(MODEL_ID)\n",
    "r = sr.Recognizer()"
   ]
  },
  {
   "cell_type": "code",
   "execution_count": 18,
   "metadata": {},
   "outputs": [
    {
     "name": "stdout",
     "output_type": "stream",
     "text": [
      "listening\n",
      "google -->  hi penguins live in Antarctica\n"
     ]
    },
    {
     "ename": "KeyboardInterrupt",
     "evalue": "",
     "output_type": "error",
     "traceback": [
      "\u001b[1;31m---------------------------------------------------------------------------\u001b[0m",
      "\u001b[1;31mKeyboardInterrupt\u001b[0m                         Traceback (most recent call last)",
      "\u001b[1;32mc:\\Users\\wxat3\\khly\\ml\\iHatethisLaptop.ipynb Cell 9\u001b[0m in \u001b[0;36m<cell line: 1>\u001b[1;34m()\u001b[0m\n\u001b[0;32m      <a href='vscode-notebook-cell:/c%3A/Users/wxat3/khly/ml/iHatethisLaptop.ipynb#X11sZmlsZQ%3D%3D?line=2'>3</a>\u001b[0m \u001b[39mwhile\u001b[39;00m \u001b[39mTrue\u001b[39;00m: \n\u001b[0;32m      <a href='vscode-notebook-cell:/c%3A/Users/wxat3/khly/ml/iHatethisLaptop.ipynb#X11sZmlsZQ%3D%3D?line=3'>4</a>\u001b[0m   r\u001b[39m.\u001b[39madjust_for_ambient_noise(mic)\n\u001b[1;32m----> <a href='vscode-notebook-cell:/c%3A/Users/wxat3/khly/ml/iHatethisLaptop.ipynb#X11sZmlsZQ%3D%3D?line=4'>5</a>\u001b[0m   audio \u001b[39m=\u001b[39m r\u001b[39m.\u001b[39;49mlisten(mic)\n\u001b[0;32m      <a href='vscode-notebook-cell:/c%3A/Users/wxat3/khly/ml/iHatethisLaptop.ipynb#X11sZmlsZQ%3D%3D?line=5'>6</a>\u001b[0m   \u001b[39m# data, samplerate = sf.read(io.BytesIO(audio.get_wav_data()))\u001b[39;00m\n\u001b[0;32m      <a href='vscode-notebook-cell:/c%3A/Users/wxat3/khly/ml/iHatethisLaptop.ipynb#X11sZmlsZQ%3D%3D?line=6'>7</a>\u001b[0m   \u001b[39mtry\u001b[39;00m:\n\u001b[0;32m      <a href='vscode-notebook-cell:/c%3A/Users/wxat3/khly/ml/iHatethisLaptop.ipynb#X11sZmlsZQ%3D%3D?line=7'>8</a>\u001b[0m     \u001b[39m# inputs = processor(data, sampling_rate=16_000, return_tensors=\"pt\", padding=True)\u001b[39;00m\n\u001b[0;32m      <a href='vscode-notebook-cell:/c%3A/Users/wxat3/khly/ml/iHatethisLaptop.ipynb#X11sZmlsZQ%3D%3D?line=8'>9</a>\u001b[0m     \u001b[39m# with torch.no_grad():\u001b[39;00m\n\u001b[1;32m   (...)\u001b[0m\n\u001b[0;32m     <a href='vscode-notebook-cell:/c%3A/Users/wxat3/khly/ml/iHatethisLaptop.ipynb#X11sZmlsZQ%3D%3D?line=12'>13</a>\u001b[0m     \u001b[39m# text_model = processor.batch_decode(predicted_ids)[0]\u001b[39;00m\n\u001b[0;32m     <a href='vscode-notebook-cell:/c%3A/Users/wxat3/khly/ml/iHatethisLaptop.ipynb#X11sZmlsZQ%3D%3D?line=13'>14</a>\u001b[0m     \u001b[39m# print('model ---> ', text_model)\u001b[39;00m\n",
      "File \u001b[1;32mc:\\Users\\wxat3\\AppData\\Local\\Programs\\Python\\Python310\\lib\\site-packages\\speech_recognition\\__init__.py:523\u001b[0m, in \u001b[0;36mRecognizer.listen\u001b[1;34m(self, source, timeout, phrase_time_limit, snowboy_configuration)\u001b[0m\n\u001b[0;32m    520\u001b[0m \u001b[39mif\u001b[39;00m phrase_time_limit \u001b[39mand\u001b[39;00m elapsed_time \u001b[39m-\u001b[39m phrase_start_time \u001b[39m>\u001b[39m phrase_time_limit:\n\u001b[0;32m    521\u001b[0m     \u001b[39mbreak\u001b[39;00m\n\u001b[1;32m--> 523\u001b[0m buffer \u001b[39m=\u001b[39m source\u001b[39m.\u001b[39;49mstream\u001b[39m.\u001b[39;49mread(source\u001b[39m.\u001b[39;49mCHUNK)\n\u001b[0;32m    524\u001b[0m \u001b[39mif\u001b[39;00m \u001b[39mlen\u001b[39m(buffer) \u001b[39m==\u001b[39m \u001b[39m0\u001b[39m: \u001b[39mbreak\u001b[39;00m  \u001b[39m# reached end of the stream\u001b[39;00m\n\u001b[0;32m    525\u001b[0m frames\u001b[39m.\u001b[39mappend(buffer)\n",
      "File \u001b[1;32mc:\\Users\\wxat3\\AppData\\Local\\Programs\\Python\\Python310\\lib\\site-packages\\speech_recognition\\__init__.py:199\u001b[0m, in \u001b[0;36mMicrophone.MicrophoneStream.read\u001b[1;34m(self, size)\u001b[0m\n\u001b[0;32m    198\u001b[0m \u001b[39mdef\u001b[39;00m \u001b[39mread\u001b[39m(\u001b[39mself\u001b[39m, size):\n\u001b[1;32m--> 199\u001b[0m     \u001b[39mreturn\u001b[39;00m \u001b[39mself\u001b[39;49m\u001b[39m.\u001b[39;49mpyaudio_stream\u001b[39m.\u001b[39;49mread(size, exception_on_overflow\u001b[39m=\u001b[39;49m\u001b[39mFalse\u001b[39;49;00m)\n",
      "File \u001b[1;32mc:\\Users\\wxat3\\AppData\\Local\\Programs\\Python\\Python310\\lib\\site-packages\\pyaudio\\__init__.py:570\u001b[0m, in \u001b[0;36mPyAudio.Stream.read\u001b[1;34m(self, num_frames, exception_on_overflow)\u001b[0m\n\u001b[0;32m    567\u001b[0m \u001b[39mif\u001b[39;00m \u001b[39mnot\u001b[39;00m \u001b[39mself\u001b[39m\u001b[39m.\u001b[39m_is_input:\n\u001b[0;32m    568\u001b[0m     \u001b[39mraise\u001b[39;00m \u001b[39mIOError\u001b[39;00m(\u001b[39m\"\u001b[39m\u001b[39mNot input stream\u001b[39m\u001b[39m\"\u001b[39m,\n\u001b[0;32m    569\u001b[0m                   paCanNotReadFromAnOutputOnlyStream)\n\u001b[1;32m--> 570\u001b[0m \u001b[39mreturn\u001b[39;00m pa\u001b[39m.\u001b[39;49mread_stream(\u001b[39mself\u001b[39;49m\u001b[39m.\u001b[39;49m_stream, num_frames,\n\u001b[0;32m    571\u001b[0m                       exception_on_overflow)\n",
      "\u001b[1;31mKeyboardInterrupt\u001b[0m: "
     ]
    }
   ],
   "source": [
    "with sr.Microphone(sample_rate=16000) as mic:\n",
    "  print('listening')\n",
    "  while True: \n",
    "    r.adjust_for_ambient_noise(mic)\n",
    "    audio = r.listen(mic)\n",
    "    # data, samplerate = sf.read(io.BytesIO(audio.get_wav_data()))\n",
    "    try:\n",
    "      # inputs = processor(data, sampling_rate=16_000, return_tensors=\"pt\", padding=True)\n",
    "      # with torch.no_grad():\n",
    "      #     logits = model(inputs.input_values, attention_mask=inputs.attention_mask).logits\n",
    "\n",
    "      # predicted_ids = torch.argmax(logits, dim=-1)\n",
    "      # text_model = processor.batch_decode(predicted_ids)[0]\n",
    "      # print('model ---> ', text_model)\n",
    "      text_google = r.recognize_google(audio)\n",
    "      print('google --> ', text_google)\n",
    "      # TTS\n",
    "      mel_output, mel_length, alignment = tacotron2.encode_text(text_google)\n",
    "      waveforms = hifi_gan.decode_batch(mel_output)\n",
    "      torchaudio.save('hello.wav',waveforms.squeeze(1), 22050)\n",
    "    except Exception as e:\n",
    "      print(e)"
   ]
  },
  {
   "cell_type": "code",
   "execution_count": null,
   "metadata": {},
   "outputs": [],
   "source": []
  }
 ],
 "metadata": {
  "kernelspec": {
   "display_name": "Python 3",
   "language": "python",
   "name": "python3"
  },
  "language_info": {
   "codemirror_mode": {
    "name": "ipython",
    "version": 3
   },
   "file_extension": ".py",
   "mimetype": "text/x-python",
   "name": "python",
   "nbconvert_exporter": "python",
   "pygments_lexer": "ipython3",
   "version": "3.10.2"
  },
  "orig_nbformat": 4
 },
 "nbformat": 4,
 "nbformat_minor": 2
}
